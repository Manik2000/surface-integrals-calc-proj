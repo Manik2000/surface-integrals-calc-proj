{
 "cells": [
  {
   "cell_type": "markdown",
   "metadata": {
    "slideshow": {
     "slide_type": "slide"
    }
   },
   "source": [
    "# Flux Calculator"
   ]
  },
  {
   "cell_type": "markdown",
   "metadata": {
    "slideshow": {
     "slide_type": "slide"
    }
   },
   "source": [
    "## How does it work?\n",
    "\n",
    "We will be using and comparing two methods for computing flux over a surface. All functions and methods were implemented by us fully.<br>\n",
    "We also will be using two fundamental formulas (implied by the definition of surface integral and Divergence Theorem)\n",
    "$$\\Phi = \\iint_{S}{\\mathbf{F}\\cdot\\operatorname{d}\\!\\mathbf{S}}=\\iint_{D}{\\mathbf{F}\\left(\\mathbf{r}\\left(u, v\\right)\\right)\\cdot \\left(\\mathbf{r}_u\\times\\mathbf{r}_v\\right)\\operatorname{d}\\!u\\operatorname{d}\\!v},$$\n",
    "$$\\Phi = \\iint_{S}{\\mathbf{F}\\cdot\\operatorname{d}\\!\\mathbf{S}}=\\iiint_V{\\operatorname{div}{\\mathbf{F}}\\operatorname{d}\\!V}.$$\n"
   ]
  },
  {
   "cell_type": "markdown",
   "metadata": {
    "slideshow": {
     "slide_type": "subslide"
    }
   },
   "source": [
    "### Simpson's rule\n",
    "\n",
    "Firstly, we will take a look at the composite Simpson's rule and modify it for solving multiple integrals.<br>\n",
    "\n",
    "For one dimensional, regular integral we have\n",
    "$$\\int_a^b{f(x)\\operatorname{d}\\!x}\\approx \\frac{b-a}{3\\,n}\\left(f(a)+2\\sum_{i=1}^{\\frac{n}{2}-1}{f\\left(a+2\\,i\\frac{b-a}{n}\\right)}+4\\sum_{i=1}^{\\frac{n}{2}}{f\\left(a+\\left(2\\,i-1\\right)\\frac{b-a}{n}\\right)}+f(b)\\right),$$\n",
    "where $n -$ number of nodes (split points).<br>\n",
    "So we will be splitting an interval into smaller pieces and compute values of a function in these points with particular weights to interpolate a function and approximate the value of an integral.<br>\n",
    "The weights will look like\n",
    "$$1\\;4\\;2\\;4\\;\\ldots\\;4\\;2\\;4\\;1.$$"
   ]
  },
  {
   "cell_type": "markdown",
   "metadata": {
    "slideshow": {
     "slide_type": "subslide"
    }
   },
   "source": [
    "### Simpson's rule for multiple integrals\n",
    "\n",
    "To compute a multiple integral numerically based on standard composite Simpson's rule, we will split a region or a volume into smaller pieces. We will just apply the above method for every dimension and multiply the weights. Later, we assume that number of nodes in every dimension is equal.<br>\n",
    "For example, the matrix of weights for double integral will look like\n",
    "$$\\begin{bmatrix}\n",
    "1&4&2&4&\\cdots&4&2&4&1\\\\\n",
    "4&16&8&16&\\cdots&16&8&16&4\\\\\n",
    "2&8&4&8&\\cdots&8&4&8&2\\\\\n",
    "4&16&8&16&\\cdots&16&8&16&4\\\\\n",
    "\\vdots&&&&\\vdots&&&&\\vdots\\\\\n",
    "4&16&8&16&\\cdots&16&8&16&4\\\\\n",
    "2&8&4&8&\\cdots&8&4&8&2\\\\\n",
    "4&16&8&16&\\cdots&16&8&16&4\\\\\n",
    "1&4&2&4&\\cdots&4&2&4&1\\\\\n",
    "\\end{bmatrix}$$"
   ]
  },
  {
   "cell_type": "markdown",
   "metadata": {
    "slideshow": {
     "slide_type": "subslide"
    }
   },
   "source": [
    "### Monte Carlo method\n",
    "\n",
    "Monte Carlo integration based on the Law of Large Numbers and said that the multiple integral can be approximated by \n",
    "$$\\int_{\\Omega}{f(\\mathbf{x})\\operatorname{d}\\!\\mathbf{x}}\\approx\\frac{V}{N}\\sum_{i=1}^{N}{f(\\mathbf{x_i})},$$\n",
    "where $\\Omega - $ multidimensional region, $N - $ number of points drawed from $\\Omega$, $V - $ volume of $\\Omega$."
   ]
  },
  {
   "cell_type": "markdown",
   "metadata": {
    "slideshow": {
     "slide_type": "subslide"
    }
   },
   "source": [
    "### Variance reduction - stratification\n",
    "\n",
    "To reduce a variance, we will be using the stratification method.<br>\n",
    "It is all about separate $\\Omega$ into smaller, equal parts, apply Monte Carlo method to each part and compute the sum of them. The new formula is\n",
    "$$\\int_{\\Omega}{f(\\mathbf{x})\\operatorname{d}\\!\\mathbf{x}}\\approx\\frac{1}{N}\\sum_{j=1}^{P}{\\omega_j\\sum_{i=1}^{N}{f(\\mathbf{x_{ij}})}},$$\n",
    "where $P -$ number of parts, $\\omega_j - $ volume of jth part. "
   ]
  },
  {
   "cell_type": "markdown",
   "metadata": {
    "slideshow": {
     "slide_type": "slide"
    }
   },
   "source": [
    "## Encountered problems\n",
    "\n",
    "Main problems that we have encountered are\n",
    "- Integration over irregular regions,\n",
    "- Orientation of a surface."
   ]
  },
  {
   "cell_type": "markdown",
   "metadata": {
    "slideshow": {
     "slide_type": "subslide"
    }
   },
   "source": [
    "### Integration over irregular regions\n",
    "\n",
    "For Simpson's rule, we will be stretching a region to a full rectangle (or cuboid) and multiply the edges by normalized lengths (or areas) for particular node.<br><br>\n",
    "For Monte Carlo method, we will be limiting a region by a rectangle (or cuboid) and for points that are not in the region changing a value $f(\\mathbf{x})$ to $0$. "
   ]
  },
  {
   "cell_type": "markdown",
   "metadata": {
    "slideshow": {
     "slide_type": "subslide"
    }
   },
   "source": [
    "### Orientation of a surface\n",
    "\n",
    "There is no such a general method for checking the orientation of a surface, so we will be giving an absolute value of a flux and later, $\\Phi$ means $\\left|\\Phi\\right|$. "
   ]
  },
  {
   "cell_type": "code",
   "execution_count": null,
   "metadata": {},
   "outputs": [],
   "source": []
  }
 ],
 "metadata": {
  "celltoolbar": "Slideshow",
  "kernelspec": {
   "display_name": "Julia 1.3.1",
   "language": "julia",
   "name": "julia-1.3"
  },
  "language_info": {
   "file_extension": ".jl",
   "mimetype": "application/julia",
   "name": "julia",
   "version": "1.3.1"
  }
 },
 "nbformat": 4,
 "nbformat_minor": 4
}
