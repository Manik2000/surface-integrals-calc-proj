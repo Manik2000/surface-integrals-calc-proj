{
 "cells": [
  {
   "cell_type": "code",
   "execution_count": 19,
   "metadata": {},
   "outputs": [
    {
     "data": {
      "text/plain": [
       "simpson (generic function with 1 method)"
      ]
     },
     "execution_count": 19,
     "metadata": {},
     "output_type": "execute_result"
    }
   ],
   "source": [
    "function simpson(f::Function, a::Number, b::Number, n::Number)\n",
    "    n % 2 == 0 || error(\"`n` must be even\")\n",
    "    h = (b - a) / n\n",
    "    s = f(a) + f(b)\n",
    "    s += 4sum(f.(a .+ collect(1:2:n) .* h))  # even x's\n",
    "    s += 2sum(f.(a .+ collect(2:2:n-1) .* h))  # odd x's\n",
    "    return h / 3 * s\n",
    "end"
   ]
  },
  {
   "cell_type": "code",
   "execution_count": 20,
   "metadata": {},
   "outputs": [
    {
     "data": {
      "text/plain": [
       "0.9995912331140006"
      ]
     },
     "execution_count": 20,
     "metadata": {},
     "output_type": "execute_result"
    }
   ],
   "source": [
    "simpson(x -> x*sin(x), 0, pi/2, 4)  # 1"
   ]
  },
  {
   "cell_type": "code",
   "execution_count": 21,
   "metadata": {},
   "outputs": [
    {
     "data": {
      "text/plain": [
       "double_simpson (generic function with 1 method)"
      ]
     },
     "execution_count": 21,
     "metadata": {},
     "output_type": "execute_result"
    }
   ],
   "source": [
    "function double_simpson(f::Function, ax::Number, bx::Number,\n",
    "                        ay::Number, by::Number, nx::Number, ny::Number)\n",
    "\n",
    "    hx = (bx - ax) / nx\n",
    "    hy = (by - ay) / ny\n",
    "    s = 0\n",
    "    for i in 0:ny\n",
    "        if i == 0 | i == ny\n",
    "            p = 1\n",
    "        elseif i % 2 != 0\n",
    "            p = 4\n",
    "        else\n",
    "            p = 2\n",
    "        end\n",
    "        for j in 0:nx\n",
    "            if j == 0 | j == nx\n",
    "                q = 1\n",
    "            elseif j % 2 != 0\n",
    "                q = 4\n",
    "            else\n",
    "                q = 2\n",
    "            end\n",
    "            x = ax + j*hx\n",
    "            y = ay + i*hy\n",
    "            s += p * q * f(x, y)\n",
    "        end\n",
    "    end\n",
    "    return s * hx * hy / 9\n",
    "end\n",
    "\n"
   ]
  },
  {
   "cell_type": "code",
   "execution_count": 22,
   "metadata": {},
   "outputs": [
    {
     "name": "stdout",
     "output_type": "stream",
     "text": [
      "0.9958333333333333\n",
      "-0.8492443678334637\n"
     ]
    }
   ],
   "source": [
    "double_simpson((x, y)->x^2*y + x*y^2, 1, 2, -1, 1, 80, 80) |> println # 1\n",
    "double_simpson((x, y)->cos(x + y) + y*sin(x +y), -π/2, π, 0, π, 800, 800) |> println  # π - 4 = -0.8594"
   ]
  },
  {
   "cell_type": "code",
   "execution_count": 23,
   "metadata": {},
   "outputs": [
    {
     "data": {
      "text/plain": [
       "double_simpson2 (generic function with 1 method)"
      ]
     },
     "execution_count": 23,
     "metadata": {},
     "output_type": "execute_result"
    }
   ],
   "source": [
    "# próbuję zbroadcastować double simpsona, ale już na tym etapie wynik jest minimalnie inny niż ten wyżej\n",
    "# jeszcze nie znalazłem przyczyny\n",
    "# Marcin M\n",
    "\n",
    "function double_simpson2(f::Function, ax::Number, bx::Number,\n",
    "                        ay::Number, by::Number, nx::Number, ny::Number)\n",
    "\n",
    "    hx = (bx - ax) / nx\n",
    "    hy = (by - ay) / ny\n",
    "    s = 0\n",
    "    for i in 0:ny\n",
    "        if i == 0 | i == ny\n",
    "            p = 1\n",
    "        elseif i % 2 != 0\n",
    "            p = 4\n",
    "        else\n",
    "            p = 2\n",
    "        end\n",
    "        s += p * 4sum(f.((ax .+ collect(1:2:nx) .* hx), ay + i*hy))\n",
    "        s += p * 2sum(f.((ax .+ collect(2:2:nx-1) .* hx), ay + i*hy))\n",
    "        s += p * f(ax, ay + i*hy) + p * f(ax + nx*hx, ay + i*hy)\n",
    "    end\n",
    "    return s * hx * hy / 9\n",
    "end"
   ]
  },
  {
   "cell_type": "code",
   "execution_count": 24,
   "metadata": {},
   "outputs": [
    {
     "name": "stdout",
     "output_type": "stream",
     "text": [
      "0.9930555555555561\n",
      "-0.8570983494675045\n"
     ]
    }
   ],
   "source": [
    "double_simpson2((x, y)->x^2*y + x*y^2, 1, 2, -1, 1, 80, 80) |> println # 1\n",
    "double_simpson2((x, y)->cos(x + y) + y*sin(x +y), -π/2, π, 0, π, 800, 800) |> println  # π - 4 = -0.8594"
   ]
  },
  {
   "cell_type": "code",
   "execution_count": null,
   "metadata": {},
   "outputs": [],
   "source": []
  }
 ],
 "metadata": {
  "@webio": {
   "lastCommId": null,
   "lastKernelId": null
  },
  "kernelspec": {
   "display_name": "Julia 1.5.2",
   "language": "julia",
   "name": "julia-1.5"
  },
  "language_info": {
   "file_extension": ".jl",
   "mimetype": "application/julia",
   "name": "julia",
   "version": "1.5.2"
  }
 },
 "nbformat": 4,
 "nbformat_minor": 4
}
