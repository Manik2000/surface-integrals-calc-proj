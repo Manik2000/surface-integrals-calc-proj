{
 "cells": [
  {
   "cell_type": "code",
   "execution_count": 12,
   "metadata": {},
   "outputs": [
    {
     "name": "stderr",
     "output_type": "stream",
     "text": [
      "WARNING: replacing module IntegralUtils.\n",
      "WARNING: using IntegralUtils.coeff in module Main conflicts with an existing identifier.\n",
      "WARNING: using IntegralUtils.split_region in module Main conflicts with an existing identifier.\n",
      "WARNING: using IntegralUtils.divergence in module Main conflicts with an existing identifier.\n",
      "WARNING: using IntegralUtils.create_weights in module Main conflicts with an existing identifier.\n"
     ]
    }
   ],
   "source": [
    "using IJulia\n",
    "using NBInclude\n",
    "include(\"IntegralUtils.jl\")\n",
    "using .IntegralUtils"
   ]
  },
  {
   "cell_type": "code",
   "execution_count": 17,
   "metadata": {},
   "outputs": [
    {
     "data": {
      "text/plain": [
       "surface_integral"
      ]
     },
     "execution_count": 17,
     "metadata": {},
     "output_type": "execute_result"
    }
   ],
   "source": [
    "\"\"\"\n",
    "    surface_integral(F::Function, X::Tuple{Number, Number}, Y::Tuple{Number, Number}, Z::Tuple{Number, Number}, ξ::Int = 2, υ::Int = 2, ζ::Int = 2)::Float64\n",
    "\n",
    "Determine a flux of vector field `F` through a cuboid using Gauss-Ostrogradski theorem.\n",
    "\n",
    "# Examples\n",
    "```\n",
    "julia> surface_integral((x, y, z) -> [x, y, z], (0, 1), (0, 1), (0, 1))\n",
    "3.0000000000163776\n",
    "\n",
    "julia> surface_integral((x, y, z) -> [-y, x, 0], (-1, 1), (-1, 1), (-1, 1))\n",
    "0.0\n",
    "```\n",
    "\"\"\"\n",
    "function surface_integral(F::Function, X::Tuple{Number, Number}, Y::Tuple{Number, Number}, Z::Tuple{Number, Number},\n",
    "    ξ::Int = 2, υ::Int = 2, ζ::Int = 2)::Float64\n",
    "    \n",
    "    weights = create_weights(ξ, υ, ζ)\n",
    "    points = split_region(X, Y, Z, ξ, υ, ζ)\n",
    "    return sum(divergence.(F, points) .* weights) * prod([coeff(interval, steps) \n",
    "            for (interval, steps) in zip((X, Y, Z), (ξ, υ, ζ))])\n",
    "end"
   ]
  },
  {
   "cell_type": "code",
   "execution_count": 18,
   "metadata": {},
   "outputs": [
    {
     "data": {
      "text/plain": [
       "surface_integral"
      ]
     },
     "execution_count": 18,
     "metadata": {},
     "output_type": "execute_result"
    }
   ],
   "source": [
    "\"\"\"\n",
    "    surface_integral(F::Function, r::Function, U::Tuple{Number, Number}, V::Tuple{Number, Number}, μ::Int = 2, ν::Int = 2)::Float64\n",
    "\n",
    "Determine a flux of vector field `F` through a surface parametrized by `r` using transformation to double integral.\n",
    "\n",
    "# Examples\n",
    "```\n",
    "julia> surface_integral((x, y, z) -> [-y, x, z], (u, v) -> [(cos(u) + 2)cos(v), (cos(u) + 2)sin(v), sin(u)],  (0, 2π), (0, π/2))\n",
    "-1.1513612148289776e-5\n",
    "\n",
    "julia> surface_integral((x, y, z) -> [x, y, z], (u, v) -> [cos(u)cos(v), sin(u)cos(v), sin(v)], (0, 2π), (-π/2, π/2), 2, 8)\n",
    "12.56806186014683\n",
    "```\n",
    "\"\"\"\n",
    "function surface_integral(F::Function, r::Function, U::Tuple{Number, Number}, V::Tuple{Number, Number},\n",
    "        μ::Int = 2, ν::Int = 2)::Float64\n",
    "    \n",
    "    weights = create_weights(μ, ν)\n",
    "    points = split_region(U, V, μ, ν)\n",
    "    return sum(transform.(F, r, points) .* weights) * prod([coeff(interval, steps) \n",
    "            for (interval, steps) in zip((U, V), (μ, ν))])\n",
    "end"
   ]
  },
  {
   "cell_type": "code",
   "execution_count": 19,
   "metadata": {},
   "outputs": [
    {
     "name": "stdout",
     "output_type": "stream",
     "text": [
      "search: \u001b[0m\u001b[1ms\u001b[22m\u001b[0m\u001b[1mu\u001b[22m\u001b[0m\u001b[1mr\u001b[22m\u001b[0m\u001b[1mf\u001b[22m\u001b[0m\u001b[1ma\u001b[22m\u001b[0m\u001b[1mc\u001b[22m\u001b[0m\u001b[1me\u001b[22m\u001b[0m\u001b[1m_\u001b[22m\u001b[0m\u001b[1mi\u001b[22m\u001b[0m\u001b[1mn\u001b[22m\u001b[0m\u001b[1mt\u001b[22m\u001b[0m\u001b[1me\u001b[22m\u001b[0m\u001b[1mg\u001b[22m\u001b[0m\u001b[1mr\u001b[22m\u001b[0m\u001b[1ma\u001b[22m\u001b[0m\u001b[1ml\u001b[22m\n",
      "\n"
     ]
    },
    {
     "data": {
      "text/latex": [
       "\\begin{verbatim}\n",
       "surface_integral(F::Function, X::Tuple{Number, Number}, Y::Tuple{Number, Number}, Z::Tuple{Number, Number}, ξ::Int = 2, υ::Int = 2, ζ::Int = 2)::Float64\n",
       "\\end{verbatim}\n",
       "Determine a flux of vector field \\texttt{F} through a cuboid using Gauss-Ostrogradski theorem.\n",
       "\n",
       "\\section{Examples}\n",
       "\\begin{verbatim}\n",
       "julia> surface_integral((x, y, z) -> [x, y, z], (0, 1), (0, 1), (0, 1))\n",
       "3.0000000000163776\n",
       "\n",
       "julia> surface_integral((x, y, z) -> [-y, x, 0], (-1, 1), (-1, 1), (-1, 1))\n",
       "0.0\n",
       "\\end{verbatim}\n",
       "\\rule{\\textwidth}{1pt}\n",
       "\\begin{verbatim}\n",
       "surface_integral(F::Function, r::Function, U::Tuple{Number, Number}, V::Tuple{Number, Number}, μ::Int = 2, ν::Int = 2)::Float64\n",
       "\\end{verbatim}\n",
       "Determine a flux of vector field \\texttt{F} through a surface parametrized by \\texttt{r} using transformation to double integral.\n",
       "\n",
       "\\section{Examples}\n",
       "\\begin{verbatim}\n",
       "julia> surface_integral((x, y, z) -> [-y, x, z], (u, v) -> [(cos(u) + 2)cos(v), (cos(u) + 2)sin(v), sin(u)],  (0, 2π), (0, π/2))\n",
       "-1.1513612148289776e-5\n",
       "\n",
       "julia> surface_integral((x, y, z) -> [x, y, z], (u, v) -> [cos(u)cos(v), sin(u)cos(v), sin(v)], (0, 2π), (-π/2, π/2), 2, 8)\n",
       "12.56806186014683\n",
       "\\end{verbatim}\n"
      ],
      "text/markdown": [
       "```\n",
       "surface_integral(F::Function, X::Tuple{Number, Number}, Y::Tuple{Number, Number}, Z::Tuple{Number, Number}, ξ::Int = 2, υ::Int = 2, ζ::Int = 2)::Float64\n",
       "```\n",
       "\n",
       "Determine a flux of vector field `F` through a cuboid using Gauss-Ostrogradski theorem.\n",
       "\n",
       "# Examples\n",
       "\n",
       "```\n",
       "julia> surface_integral((x, y, z) -> [x, y, z], (0, 1), (0, 1), (0, 1))\n",
       "3.0000000000163776\n",
       "\n",
       "julia> surface_integral((x, y, z) -> [-y, x, 0], (-1, 1), (-1, 1), (-1, 1))\n",
       "0.0\n",
       "```\n",
       "\n",
       "---\n",
       "\n",
       "```\n",
       "surface_integral(F::Function, r::Function, U::Tuple{Number, Number}, V::Tuple{Number, Number}, μ::Int = 2, ν::Int = 2)::Float64\n",
       "```\n",
       "\n",
       "Determine a flux of vector field `F` through a surface parametrized by `r` using transformation to double integral.\n",
       "\n",
       "# Examples\n",
       "\n",
       "```\n",
       "julia> surface_integral((x, y, z) -> [-y, x, z], (u, v) -> [(cos(u) + 2)cos(v), (cos(u) + 2)sin(v), sin(u)],  (0, 2π), (0, π/2))\n",
       "-1.1513612148289776e-5\n",
       "\n",
       "julia> surface_integral((x, y, z) -> [x, y, z], (u, v) -> [cos(u)cos(v), sin(u)cos(v), sin(v)], (0, 2π), (-π/2, π/2), 2, 8)\n",
       "12.56806186014683\n",
       "```\n"
      ],
      "text/plain": [
       "\u001b[36m  surface_integral(F::Function, X::Tuple{Number, Number}, Y::Tuple{Number, Number}, Z::Tuple{Number, Number}, ξ::Int = 2, υ::Int = 2, ζ::Int = 2)::Float64\u001b[39m\n",
       "\n",
       "  Determine a flux of vector field \u001b[36mF\u001b[39m through a cuboid using Gauss-Ostrogradski\n",
       "  theorem.\n",
       "\n",
       "\u001b[1m  Examples\u001b[22m\n",
       "\u001b[1m  ≡≡≡≡≡≡≡≡≡≡\u001b[22m\n",
       "\n",
       "\u001b[36m  julia> surface_integral((x, y, z) -> [x, y, z], (0, 1), (0, 1), (0, 1))\u001b[39m\n",
       "\u001b[36m  3.0000000000163776\u001b[39m\n",
       "\u001b[36m  \u001b[39m\n",
       "\u001b[36m  julia> surface_integral((x, y, z) -> [-y, x, 0], (-1, 1), (-1, 1), (-1, 1))\u001b[39m\n",
       "\u001b[36m  0.0\u001b[39m\n",
       "\n",
       "  ────────────────────────────────────────────────────────────────────────────\n",
       "\n",
       "\u001b[36m  surface_integral(F::Function, r::Function, U::Tuple{Number, Number}, V::Tuple{Number, Number}, μ::Int = 2, ν::Int = 2)::Float64\u001b[39m\n",
       "\n",
       "  Determine a flux of vector field \u001b[36mF\u001b[39m through a surface parametrized by \u001b[36mr\u001b[39m using\n",
       "  transformation to double integral.\n",
       "\n",
       "\u001b[1m  Examples\u001b[22m\n",
       "\u001b[1m  ≡≡≡≡≡≡≡≡≡≡\u001b[22m\n",
       "\n",
       "\u001b[36m  julia> surface_integral((x, y, z) -> [-y, x, z], (u, v) -> [(cos(u) + 2)cos(v), (cos(u) + 2)sin(v), sin(u)],  (0, 2π), (0, π/2))\u001b[39m\n",
       "\u001b[36m  -1.1513612148289776e-5\u001b[39m\n",
       "\u001b[36m  \u001b[39m\n",
       "\u001b[36m  julia> surface_integral((x, y, z) -> [x, y, z], (u, v) -> [cos(u)cos(v), sin(u)cos(v), sin(v)], (0, 2π), (-π/2, π/2), 2, 8)\u001b[39m\n",
       "\u001b[36m  12.56806186014683\u001b[39m"
      ]
     },
     "execution_count": 19,
     "metadata": {},
     "output_type": "execute_result"
    }
   ],
   "source": [
    "?surface_integral"
   ]
  },
  {
   "cell_type": "code",
   "execution_count": 15,
   "metadata": {},
   "outputs": [
    {
     "data": {
      "text/plain": [
       "simpson (generic function with 1 method)"
      ]
     },
     "execution_count": 15,
     "metadata": {},
     "output_type": "execute_result"
    }
   ],
   "source": [
    "function simpson(f::Function, a::Number, b::Number, n::Number)\n",
    "    n % 2 == 0 || error(\"`n` must be even\")\n",
    "    h = (b - a) / n\n",
    "    s = f(a) + f(b)\n",
    "    s += 4sum(f.(a .+ collect(1:2:n) .* h))  # even x's\n",
    "    s += 2sum(f.(a .+ collect(2:2:n-1) .* h))  # odd x's\n",
    "    return h / 3 * s\n",
    "end"
   ]
  },
  {
   "cell_type": "code",
   "execution_count": 16,
   "metadata": {},
   "outputs": [
    {
     "data": {
      "text/plain": [
       "0.9995912331140006"
      ]
     },
     "execution_count": 16,
     "metadata": {},
     "output_type": "execute_result"
    }
   ],
   "source": [
    "simpson(x -> x*sin(x), 0, pi/2, 4)  # 1"
   ]
  },
  {
   "cell_type": "code",
   "execution_count": 8,
   "metadata": {},
   "outputs": [
    {
     "data": {
      "text/plain": [
       "double_simpson (generic function with 1 method)"
      ]
     },
     "execution_count": 8,
     "metadata": {},
     "output_type": "execute_result"
    }
   ],
   "source": [
    "function double_simpson(f::Function, ax::Number, bx::Number,\n",
    "                        ay::Number, by::Number, nx::Number, ny::Number)\n",
    "\n",
    "    hx = (bx - ax) / nx\n",
    "    hy = (by - ay) / ny\n",
    "    s = 0\n",
    "    for i in 0:ny\n",
    "        if i == 0 | i == ny\n",
    "            p = 1\n",
    "        elseif i % 2 != 0\n",
    "            p = 4\n",
    "        else\n",
    "            p = 2\n",
    "        end\n",
    "        for j in 0:nx\n",
    "            if j == 0 | j == nx\n",
    "                q = 1\n",
    "            elseif j % 2 != 0\n",
    "                q = 4\n",
    "            else\n",
    "                q = 2\n",
    "            end\n",
    "            x = ax + j*hx\n",
    "            y = ay + i*hy\n",
    "            s += p * q * f(x, y)\n",
    "        end\n",
    "    end\n",
    "    return s * hx * hy / 9\n",
    "end\n",
    "\n"
   ]
  },
  {
   "cell_type": "code",
   "execution_count": 9,
   "metadata": {},
   "outputs": [
    {
     "name": "stdout",
     "output_type": "stream",
     "text": [
      "0.9958333333333333\n",
      "-0.8492443678334637\n"
     ]
    }
   ],
   "source": [
    "double_simpson((x, y)->x^2*y + x*y^2, 1, 2, -1, 1, 80, 80) |> println # 1\n",
    "double_simpson((x, y)->cos(x + y) + y*sin(x +y), -π/2, π, 0, π, 800, 800) |> println  # π - 4 = -0.8594"
   ]
  },
  {
   "cell_type": "code",
   "execution_count": 14,
   "metadata": {},
   "outputs": [
    {
     "data": {
      "text/plain": [
       "double_simpson2 (generic function with 1 method)"
      ]
     },
     "execution_count": 14,
     "metadata": {},
     "output_type": "execute_result"
    }
   ],
   "source": [
    "# próbuję zbroadcastować double simpsona, ale już na tym etapie wynik jest minimalnie inny niż ten wyżej\n",
    "# jeszcze nie znalazłem przyczyny\n",
    "# Marcin M\n",
    "\n",
    "function double_simpson2(f::Function, ax::Number, bx::Number,\n",
    "                        ay::Number, by::Number, nx::Number, ny::Number)\n",
    "\n",
    "    hx = (bx - ax) / nx\n",
    "    hy = (by - ay) / ny\n",
    "    s = 0\n",
    "    for i in 0:ny\n",
    "        if i == 0 | i == ny\n",
    "            p = 1\n",
    "        elseif i % 2 != 0\n",
    "            p = 4\n",
    "        else\n",
    "            p = 2\n",
    "        end\n",
    "        s += p * 4sum(f.((ax .+ collect(1:2:nx) .* hx), ay + i*hy))\n",
    "        s += p * 2sum(f.((ax .+ collect(2:2:nx-1) .* hx), ay + i*hy))\n",
    "        s += p * f(ax, ay + i*hy) + p * f(ax + nx*hx, ay + i*hy)\n",
    "    end\n",
    "    return s * hx * hy / 9\n",
    "end"
   ]
  },
  {
   "cell_type": "code",
   "execution_count": 13,
   "metadata": {},
   "outputs": [
    {
     "name": "stdout",
     "output_type": "stream",
     "text": [
      "0.9712448133680562\n",
      "-0.8322294318588972\n"
     ]
    }
   ],
   "source": [
    "double_simpson2((x, y)->x^2*y + x*y^2, 1, 2, -1, 1, 80, 80) |> println # 1\n",
    "double_simpson2((x, y)->cos(x + y) + y*sin(x +y), -π/2, π, 0, π, 800, 800) |> println  # π - 4 = -0.8594"
   ]
  },
  {
   "cell_type": "markdown",
   "metadata": {},
   "source": [
    "## Marcina K wersja"
   ]
  },
  {
   "cell_type": "code",
   "execution_count": 17,
   "metadata": {},
   "outputs": [
    {
     "data": {
      "text/plain": [
       "create_array (generic function with 1 method)"
      ]
     },
     "execution_count": 17,
     "metadata": {},
     "output_type": "execute_result"
    }
   ],
   "source": [
    "# this function creates an array with weights for double simpson\n",
    "function create_array(nx::Number, ny::Number)\n",
    "    (nx % 2 == 0 & ny % 2 == 0) || error(\"both nx and ny must be even numbers\")\n",
    "    w = repeat([2], nx+1); w[1] = 1; w[nx+1] = 1\n",
    "    z = repeat([2], ny+1); z[1] = 1; z[ny+1] = 1\n",
    "    w[2:2:nx] .= 4\n",
    "    z[2:2:ny] .= 4\n",
    "    return w * z'\n",
    "end"
   ]
  },
  {
   "cell_type": "code",
   "execution_count": 18,
   "metadata": {},
   "outputs": [
    {
     "data": {
      "text/plain": [
       "11×9 Array{Int64,2}:\n",
       " 1   4  2   4  2   4  2   4  1\n",
       " 4  16  8  16  8  16  8  16  4\n",
       " 2   8  4   8  4   8  4   8  2\n",
       " 4  16  8  16  8  16  8  16  4\n",
       " 2   8  4   8  4   8  4   8  2\n",
       " 4  16  8  16  8  16  8  16  4\n",
       " 2   8  4   8  4   8  4   8  2\n",
       " 4  16  8  16  8  16  8  16  4\n",
       " 2   8  4   8  4   8  4   8  2\n",
       " 4  16  8  16  8  16  8  16  4\n",
       " 1   4  2   4  2   4  2   4  1"
      ]
     },
     "execution_count": 18,
     "metadata": {},
     "output_type": "execute_result"
    }
   ],
   "source": [
    "# example\n",
    "create_array(10, 8)"
   ]
  },
  {
   "cell_type": "code",
   "execution_count": 19,
   "metadata": {},
   "outputs": [
    {
     "data": {
      "text/plain": [
       "doubleSimpson (generic function with 1 method)"
      ]
     },
     "execution_count": 19,
     "metadata": {},
     "output_type": "execute_result"
    }
   ],
   "source": [
    "function doubleSimpson(f::Function, ax::Number, bx::Number,\n",
    "                        ay::Number, by::Number, nx::Number, ny::Number)\n",
    "    weights = create_array(nx, ny)\n",
    "    nums = zeros(ny+1, nx+1)\n",
    "    hx = (bx - ax) / nx\n",
    "    hy = (by - ay) / ny\n",
    "    for i in 1:ny+1\n",
    "        y = ay + hy * (i-1)\n",
    "        for j in 1:nx+1\n",
    "            x = ax + hx * (j-1)\n",
    "            nums[i, j] = f(x, y)\n",
    "        end\n",
    "    end\n",
    "    return sum(weights .* nums) * hx * hy / 9  \n",
    "end"
   ]
  },
  {
   "cell_type": "code",
   "execution_count": 20,
   "metadata": {},
   "outputs": [
    {
     "name": "stdout",
     "output_type": "stream",
     "text": [
      "1.0000000000000007\n",
      "-0.8584073464065138\n"
     ]
    }
   ],
   "source": [
    "doubleSimpson((x, y)->x^2*y + x*y^2, 1, 2, -1, 1, 80, 80) |> println # 1\n",
    "doubleSimpson((x, y)->cos(x + y) + y*sin(x +y), -π/2, π, 0, π, 800, 800) |> println  # π - 4 = -0.8594"
   ]
  },
  {
   "cell_type": "code",
   "execution_count": null,
   "metadata": {},
   "outputs": [],
   "source": []
  }
 ],
 "metadata": {
  "@webio": {
   "lastCommId": null,
   "lastKernelId": null
  },
  "kernelspec": {
   "display_name": "Julia 1.3.1",
   "language": "julia",
   "name": "julia-1.3"
  },
  "language_info": {
   "file_extension": ".jl",
   "mimetype": "application/julia",
   "name": "julia",
   "version": "1.3.1"
  }
 },
 "nbformat": 4,
 "nbformat_minor": 4
}
