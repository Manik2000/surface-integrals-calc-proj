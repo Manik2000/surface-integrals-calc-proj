{
 "cells": [
  {
   "cell_type": "code",
   "execution_count": 3,
   "metadata": {},
   "outputs": [],
   "source": [
    "using IJulia\n",
    "using LinearAlgebra"
   ]
  },
  {
   "cell_type": "code",
   "execution_count": 178,
   "metadata": {},
   "outputs": [
    {
     "data": {
      "text/plain": [
       "∂ (generic function with 1 method)"
      ]
     },
     "execution_count": 178,
     "metadata": {},
     "output_type": "execute_result"
    }
   ],
   "source": [
    "function ∂(f::Function, var::Char; P₀::Array{T, 1}, Δ::Number = 1e-3)::Number where T <: Number\n",
    "    if length(P₀) == 3\n",
    "        limits = Dict(char=>vec for (char, vec) in \n",
    "                zip(['x', 'y', 'z'], [Δ*Diagonal(ones((3, 3)))[3i-2:3i] for i in 1:3]))\n",
    "    elseif length(P₀) == 2\n",
    "        limits = Dict(char=>vec for (char, vec) in\n",
    "                zip(['u', 'v'], [Δ*Diagonal(ones((2, 2)))[2i-1:2i] for i in 1:2]))\n",
    "    end\n",
    "    return (f((P₀ + limits[var])...) - f(P₀...)) / Δ\n",
    "end"
   ]
  },
  {
   "cell_type": "code",
   "execution_count": 179,
   "metadata": {},
   "outputs": [
    {
     "data": {
      "text/plain": [
       "div (generic function with 2 methods)"
      ]
     },
     "execution_count": 179,
     "metadata": {},
     "output_type": "execute_result"
    }
   ],
   "source": [
    "function div(F⃗::Array{T1, 1}, P₀::Array{T2, 1})::Number where T1 <: Function where T2 <: Number\n",
    "   return sum(∂(F⃗[i], char, point) for (i, char) in enumerate(['x', 'y', 'z'])) \n",
    "end"
   ]
  },
  {
   "cell_type": "code",
   "execution_count": 180,
   "metadata": {},
   "outputs": [
    {
     "data": {
      "text/plain": [
       "v⃗ʼ (generic function with 2 methods)"
      ]
     },
     "execution_count": 180,
     "metadata": {},
     "output_type": "execute_result"
    }
   ],
   "source": [
    "function v⃗ʼ(F⃗::Array{T1, 1}, var::Char, P₀::Array{T2, 1})::Array{Number, 1} where T1 <: Function where T2 <: Number\n",
    "    return ∂.(F⃗, var, P₀=P₀)\n",
    "end"
   ]
  },
  {
   "cell_type": "code",
   "execution_count": 181,
   "metadata": {},
   "outputs": [
    {
     "data": {
      "text/plain": [
       "N⃗ (generic function with 2 methods)"
      ]
     },
     "execution_count": 181,
     "metadata": {},
     "output_type": "execute_result"
    }
   ],
   "source": [
    "function N⃗(r⃗::Array{T1, 1}, P₀::Array{T2, 1})::Array{Number, 1} where T1 <: Function  where T2 <: Number\n",
    "    r⃗ᵤ = ∂.(r⃗, 'u', P₀=P₀)\n",
    "    r⃗ᵥ = ∂.(r⃗, 'v', P₀=P₀)\n",
    "    return cross(r⃗ᵤ, r⃗ᵥ)\n",
    "end"
   ]
  },
  {
   "cell_type": "code",
   "execution_count": 225,
   "metadata": {},
   "outputs": [
    {
     "data": {
      "text/plain": [
       "transform (generic function with 1 method)"
      ]
     },
     "execution_count": 225,
     "metadata": {},
     "output_type": "execute_result"
    }
   ],
   "source": [
    "function transform(F⃗::Array{T1, 1}, r⃗::Array{T1, 1}, P₀::Array{T2, 1})::Number where T1 <: Function where T2 <: Number\n",
    "   return dot([F⃗[j]([r⃗[i](P₀...) for i in 1:3]...) for j in 1:3], N⃗(r⃗, P₀))\n",
    "end"
   ]
  },
  {
   "cell_type": "code",
   "execution_count": null,
   "metadata": {},
   "outputs": [],
   "source": []
  }
 ],
 "metadata": {
  "kernelspec": {
   "display_name": "Julia 1.3.1",
   "language": "julia",
   "name": "julia-1.3"
  },
  "language_info": {
   "file_extension": ".jl",
   "mimetype": "application/julia",
   "name": "julia",
   "version": "1.3.1"
  }
 },
 "nbformat": 4,
 "nbformat_minor": 4
}
