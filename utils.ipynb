{
 "cells": [
  {
   "cell_type": "code",
   "execution_count": 176,
   "metadata": {},
   "outputs": [],
   "source": [
    "using IJulia\n",
    "using LinearAlgebra"
   ]
  },
  {
   "cell_type": "code",
   "execution_count": 172,
   "metadata": {},
   "outputs": [
    {
     "data": {
      "text/plain": [
       "∂ (generic function with 3 methods)"
      ]
     },
     "execution_count": 172,
     "metadata": {},
     "output_type": "execute_result"
    }
   ],
   "source": [
    "function ∂(f::Function, var::Symbol, P₀::Array{T1, 1}; Δ::Number = 1e-3)::Union{Number, Array{T2, 1} where T2 <: Number} where T1 <: Number \n",
    "    if length(P₀) == 3\n",
    "        limits = Dict(sym=>vec for (sym, vec) in \n",
    "                zip((:x, :y, :z), [Δ*Diagonal(ones((3, 3)))[3i-2:3i] for i in 1:3]))\n",
    "    elseif length(P₀) == 2\n",
    "        limits = Dict(sym=>vec for (sym, vec) in\n",
    "                zip((:u, :v), [Δ*Diagonal(ones((2, 2)))[2i-1:2i] for i in 1:2]))\n",
    "    end\n",
    "    return (f((P₀ + limits[var])...) - f(P₀...)) / Δ\n",
    "end"
   ]
  },
  {
   "cell_type": "code",
   "execution_count": 371,
   "metadata": {},
   "outputs": [
    {
     "data": {
      "text/plain": [
       "divergence (generic function with 1 method)"
      ]
     },
     "execution_count": 371,
     "metadata": {},
     "output_type": "execute_result"
    }
   ],
   "source": [
    "function divergence(𝐅::Function, P₀::Array{T, 1})::Number where T <: Number\n",
    "   return sum(hcat([∂(𝐅, sym, P₀) for sym in (:x, :y, :z)]...)' .* Diagonal(ones(3, 3))) \n",
    "end"
   ]
  },
  {
   "cell_type": "code",
   "execution_count": 345,
   "metadata": {},
   "outputs": [
    {
     "data": {
      "text/plain": [
       "𝐍 (generic function with 1 method)"
      ]
     },
     "execution_count": 345,
     "metadata": {},
     "output_type": "execute_result"
    }
   ],
   "source": [
    "function 𝐍(𝐫::Function, P₀::Array{T, 1})::Array{Number, 1} where T <: Number\n",
    "    𝐫ᵤ = ∂(𝐫, :u, P₀)\n",
    "    𝐫ᵥ = ∂(𝐫, :v, P₀)\n",
    "    return cross(𝐫ᵤ, 𝐫ᵥ)\n",
    "end"
   ]
  },
  {
   "cell_type": "code",
   "execution_count": 347,
   "metadata": {},
   "outputs": [
    {
     "data": {
      "text/plain": [
       "transform (generic function with 2 methods)"
      ]
     },
     "execution_count": 347,
     "metadata": {},
     "output_type": "execute_result"
    }
   ],
   "source": [
    "function transform(𝐅::Function, 𝐫::Function, P₀::Array{T, 1})::Number where T <: Number\n",
    "   return dot(𝐅(𝐫(P₀...)...), 𝐍(𝐫, P₀))\n",
    "end"
   ]
  },
  {
   "cell_type": "code",
   "execution_count": 279,
   "metadata": {},
   "outputs": [
    {
     "data": {
      "text/plain": [
       "create_weights (generic function with 1 method)"
      ]
     },
     "execution_count": 279,
     "metadata": {},
     "output_type": "execute_result"
    }
   ],
   "source": [
    "function create_weights(ξ::Int, υ::Int, ζ::Int)::Array{Float64, 3}\n",
    "    return vcat([1], 4 * ones(ξ - 2) - repeat([0, 2], (ξ - 2) ÷ 2), [4, 1]) .*\n",
    "            vcat([1], 4 * ones(υ - 2) - repeat([0, 2], (υ - 2) ÷ 2), [4, 1])' .*\n",
    "            reshape(vcat([1], 4 * ones(ζ - 2) - repeat([0, 2], (ζ - 2) ÷ 2), [4, 1]), (1, 1, ζ + 1))\n",
    "end"
   ]
  },
  {
   "cell_type": "code",
   "execution_count": 350,
   "metadata": {},
   "outputs": [
    {
     "data": {
      "text/plain": [
       "create_weights (generic function with 2 methods)"
      ]
     },
     "execution_count": 350,
     "metadata": {},
     "output_type": "execute_result"
    }
   ],
   "source": [
    "function create_weights(μ::Int, ν::Int)::Array{Float64, 2}\n",
    "    return vcat([1], 4 * ones(μ - 2) - repeat([0, 2], (μ - 2) ÷ 2), [4, 1]) .*\n",
    "            vcat([1], 4 * ones(ν - 2) - repeat([0, 2], (ν - 2) ÷ 2), [4, 1])'\n",
    "end"
   ]
  },
  {
   "cell_type": "code",
   "execution_count": 333,
   "metadata": {},
   "outputs": [
    {
     "data": {
      "text/plain": [
       "step (generic function with 1 method)"
      ]
     },
     "execution_count": 333,
     "metadata": {},
     "output_type": "execute_result"
    }
   ],
   "source": [
    "step(k, N, 𝒜) = k * 𝒜[2] / N + 𝒜[1] * (1 - k / N)"
   ]
  },
  {
   "cell_type": "code",
   "execution_count": 334,
   "metadata": {},
   "outputs": [
    {
     "data": {
      "text/plain": [
       "split_region (generic function with 2 methods)"
      ]
     },
     "execution_count": 334,
     "metadata": {},
     "output_type": "execute_result"
    }
   ],
   "source": [
    "function split_region(𝒳::Tuple{Number, Number}, 𝒴::Tuple{Number, Number}, 𝒵::Tuple{Number, Number},\n",
    "        ξ::Int, υ::Int, ζ::Int)::Array{Array{Float64, 1}, 3}\n",
    "    \n",
    "    return [[step(x, ξ, 𝒳), step(y, υ, 𝒴), step(z, ζ, 𝒵)] for x in 0:ξ, y in 0:υ, z in 0:ζ]\n",
    "end"
   ]
  },
  {
   "cell_type": "code",
   "execution_count": 351,
   "metadata": {},
   "outputs": [
    {
     "data": {
      "text/plain": [
       "split_region (generic function with 3 methods)"
      ]
     },
     "execution_count": 351,
     "metadata": {},
     "output_type": "execute_result"
    }
   ],
   "source": [
    "function split_region(𝒰::Tuple{Number, Number}, 𝒱::Tuple{Number, Number},\n",
    "        μ::Int, ν::Int)::Array{Array{Float64, 1}, 2}\n",
    "    \n",
    "    return [[step(u, μ, 𝒰), step(v, ν, 𝒱)] for u in 0:μ, v in 0:ν]\n",
    "end"
   ]
  },
  {
   "cell_type": "code",
   "execution_count": 357,
   "metadata": {},
   "outputs": [
    {
     "data": {
      "text/plain": [
       "coeff (generic function with 2 methods)"
      ]
     },
     "execution_count": 357,
     "metadata": {},
     "output_type": "execute_result"
    }
   ],
   "source": [
    "coeff(𝒜, n) = (𝒜[2] - 𝒜[1]) / (3 * n)"
   ]
  },
  {
   "cell_type": "code",
   "execution_count": null,
   "metadata": {},
   "outputs": [],
   "source": []
  }
 ],
 "metadata": {
  "kernelspec": {
   "display_name": "Julia 1.3.1",
   "language": "julia",
   "name": "julia-1.3"
  },
  "language_info": {
   "file_extension": ".jl",
   "mimetype": "application/julia",
   "name": "julia",
   "version": "1.3.1"
  }
 },
 "nbformat": 4,
 "nbformat_minor": 4
}
