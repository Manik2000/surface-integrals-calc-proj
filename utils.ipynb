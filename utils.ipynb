{
 "cells": [
  {
   "cell_type": "code",
   "execution_count": 84,
   "metadata": {},
   "outputs": [],
   "source": [
    "using IJulia\n",
    "using LinearAlgebra"
   ]
  },
  {
   "cell_type": "code",
   "execution_count": 172,
   "metadata": {},
   "outputs": [
    {
     "data": {
      "text/plain": [
       "∂ (generic function with 3 methods)"
      ]
     },
     "execution_count": 172,
     "metadata": {},
     "output_type": "execute_result"
    }
   ],
   "source": [
    "function ∂(f::Function, var::Symbol, P₀::Array{T1, 1}; Δ::Number = 1e-3)::Union{Number, Array{T2, 1} where T2 <: Number} where T1 <: Number \n",
    "    if length(P₀) == 3\n",
    "        limits = Dict(sym=>vec for (sym, vec) in \n",
    "                zip((:x, :y, :z), [Δ*Diagonal(ones((3, 3)))[3i-2:3i] for i in 1:3]))\n",
    "    elseif length(P₀) == 2\n",
    "        limits = Dict(sym=>vec for (sym, vec) in\n",
    "                zip((:u, :v), [Δ*Diagonal(ones((2, 2)))[2i-1:2i] for i in 1:2]))\n",
    "    end\n",
    "    return (f((P₀ + limits[var])...) - f(P₀...)) / Δ\n",
    "end"
   ]
  },
  {
   "cell_type": "code",
   "execution_count": 157,
   "metadata": {},
   "outputs": [
    {
     "data": {
      "text/plain": [
       "div (generic function with 2 methods)"
      ]
     },
     "execution_count": 157,
     "metadata": {},
     "output_type": "execute_result"
    }
   ],
   "source": [
    "function div(F⃗::Function, P₀::Array{T, 1})::Number where T <: Number\n",
    "   return sum(hcat([∂(F⃗, sym, P₀) for sym in (:x, :y, :z)]...)' .* Diagonal(ones(3, 3))) \n",
    "end"
   ]
  },
  {
   "cell_type": "code",
   "execution_count": 162,
   "metadata": {},
   "outputs": [
    {
     "data": {
      "text/plain": [
       "N⃗ (generic function with 2 methods)"
      ]
     },
     "execution_count": 162,
     "metadata": {},
     "output_type": "execute_result"
    }
   ],
   "source": [
    "function N⃗(r⃗::Function, P₀::Array{T, 1})::Array{Number, 1} where T <: Number\n",
    "    r⃗ᵤ = ∂(r⃗, :u, P₀)\n",
    "    r⃗ᵥ = ∂(r⃗, :v, P₀)\n",
    "    return cross(r⃗ᵤ, r⃗ᵥ)\n",
    "end"
   ]
  },
  {
   "cell_type": "code",
   "execution_count": 170,
   "metadata": {},
   "outputs": [
    {
     "data": {
      "text/plain": [
       "transform (generic function with 2 methods)"
      ]
     },
     "execution_count": 170,
     "metadata": {},
     "output_type": "execute_result"
    }
   ],
   "source": [
    "function transform(F⃗::Function, r⃗::Function, P₀::Array{T, 1})::Number where T <: Number\n",
    "   return dot(F⃗(r⃗(P₀...)...), N⃗(r⃗, P₀))\n",
    "end"
   ]
  },
  {
   "cell_type": "code",
   "execution_count": null,
   "metadata": {},
   "outputs": [],
   "source": []
  }
 ],
 "metadata": {
  "kernelspec": {
   "display_name": "Julia 1.3.1",
   "language": "julia",
   "name": "julia-1.3"
  },
  "language_info": {
   "file_extension": ".jl",
   "mimetype": "application/julia",
   "name": "julia",
   "version": "1.3.1"
  }
 },
 "nbformat": 4,
 "nbformat_minor": 4
}
